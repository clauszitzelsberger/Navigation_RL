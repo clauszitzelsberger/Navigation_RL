{
 "cells": [
  {
   "cell_type": "markdown",
   "metadata": {},
   "source": [
    "# Report\n",
    "## The Challenge"
   ]
  },
  {
   "cell_type": "markdown",
   "metadata": {},
   "source": [
    "[image1]: https://user-images.githubusercontent.com/10624937/42135619-d90f2f28-7d12-11e8-8823-82b970a54d7e.gif \"Trained Agent\"\n",
    "\n",
    "![Trained Agent][image1]\n",
    "\n",
    "The challenge is to train an agent to navigate and collect yellow bananas while avoiding blue bananas in a large, square world."
   ]
  },
  {
   "cell_type": "markdown",
   "metadata": {},
   "source": [
    "## Theory\n",
    "### The Idea behind Reinforcement Learning\n",
    "The following section refers to Sutton, R., and Brato, A., 2018.  \n",
    "The challenge can be solved through Reinforcement Learning (RL). RL is a machine learning approach where an agent interacts with an environment.\n",
    "Observing a state the agent tries to maximize an expected cumulative future reward by selecting the next action. Therefore the goal is to find an optimal policy $\\pi_*$ which maps an optimal action $a$ to an observed state $s$.\n",
    "In above described challenge the states are a 37 dimensions space containing the agent's velocity, along with ray-based perception of objects around the agent's forward direction, whereas the actions are given as\n",
    "\n",
    "- **`0`** - move forward,\n",
    "- **`1`** - move backward,\n",
    "- **`2`** - turn left,\n",
    "- **`3`** - turn right.\n",
    "\n",
    "Furthermore the environment provides a reward $R$ of +1 when the agent is collecting a yellow banana - a reward of -1 is provided when a blue banana is collected.  \n",
    "\n",
    "The actions are evaluated with the following eqation:\n",
    "\n",
    "$q_\\pi(s,a) = E_\\pi[G_t | S_t = s, A_t = a]$\n",
    "\n",
    "This is the action-value function, which returns the expected return of an action $a$ in state $s$ at time $t$ when the agent is following the policy $\\pi$ for all future time steps. $G_t$ can be rewritten as:\n",
    "\n",
    "$G_t = R_{t+1} + \\gamma v_\\pi(S_{t+1})$\n",
    "\n",
    "Here $R_{t+1}$ is the reward which is provided by the environment at the next time step, $v_\\pi(S_{t+1})$ is corresponds to the value of the next state $S_{t+1}$ under the policy $\\pi$, $\\gamma$ is the discount factor $\\in [0,1]$.  \n",
    "\n",
    "The optimal policy $\\pi_*$ is given as:\n",
    "\n",
    "$\\pi_*(s) = argmax_{a \\in A(s)} q_*(s,a)$ for all $s \\in S$\n",
    "\n",
    "Finding the optimal policy can be achieved with differend approaches. One is *Q-Learning* which shall be covered in detail below. [Sutton, R., and Brato, A] \n"
   ]
  },
  {
   "cell_type": "markdown",
   "metadata": {},
   "source": [
    "### Q-Learning\n",
    "The following section refers to Sutton, R., and Brato, A., 2018.  \n",
    "The idea here is to let an agent interact with the environment starting randomly and continously improve the policy to obtain the optimal policy after numerous interactions.\n",
    "\n",
    "If we assume that there is only a finite number of states and actions we can write the action-value function $q_\\pi$ corresonding to a policy $\\pi$ in a so called *Q-table*. This table has one row for each state and one column for each action. \n",
    "\n",
    "To let the agent start randomly the action values in the Q-table need to be initialized arbitrarily. The agent will then select an action $A_0$ based on an observed state $S_0$ greedily, which means selecting the action with the maximum value across all possible actions. We call this a *greedy-policy*.\n",
    "\n",
    "Consequently the agent will receive a reward $R_{t+1}$ from the environment and observe a next state $S_{t+1}$. This can then be applied to update the Q-table as follows:\n",
    "\n",
    "$Q(S_t, A_t) \\leftarrow Q(S_t, A_t) + \\alpha \\big(R_{t+1} + \\gamma max_{a \\in A(S_{t+1})} Q(S_{t+1}, a) - Q(S_t, A_t)\\big)$\n",
    "\n",
    "Here $\\alpha$ is the step size of the update and shall be a small positive number usually $\\alpha \\ll 1$ but at least $\\alpha \\leq 1$.  \n",
    "The greedy-policy brings a problem: If one action dominates the others with respect to their action values given a specific state, the algorithm will always select this action when the state is observed. This may lead to a non-optimal policy if rewards are not deterministic. Therefore an *$\\epsilon$-greedy-policy* is being introduced:\n",
    "With a probability of $\\epsilon \\in [0,1]$ actions are selected randomly - with a probability of $1-\\epsilon$ actions are selected greedily. The value of $\\epsilon$ is reduced continously to allow a greedier policy with maturing agent. This has the advantage that the agent can explore the interaction with the environment to a higher degree and come up with a better policy eventually."
   ]
  },
  {
   "cell_type": "markdown",
   "metadata": {},
   "source": [
    "### Deep Q-Learning\n",
    "The following section refers to Mnih et al., 2015.  \n",
    "In Deep Q-Learning artificial neural networks are used as a function approximator to obtain action-values based on an observed state (this called a Deep Q-Network). This has the advantage that large state spaces or even raw pixel data can be used whereas approaches with Q-tables would due to complexity.\n",
    "\n",
    "#### Experience Replay\n",
    "There is the effect that a sequence of experience tuples $(S_t, A_t, R_{t+1}, S_{t+1})$ can be highly correlated. As this can negatively effect the learning process, a buffer is used to store experiences. Updates of the Q-Network are then applied on sampled batches of this buffer. This is called experience replay.\n",
    "\n",
    "The loss function (mean-squared-error) of the update is given as follows:\n",
    "\n",
    "$L_t(w) = E_\\pi \\big[ \\big(R_{t+1} + \\gamma max_{a \\in A(S_{t+1})} Q(S_{t+1}, a, w) - Q(S_t, A_t, w) \\big)^2\\big]$\n",
    "\n",
    "So the loss is the mean squared difference between the target consisting of the immediate observed return and the value of the next action selected by the greedy policy and the prediction which is the value of an action selected in an $\\epsilon$-greedy manner, where the values are given by the current Q-Network.\n",
    "The following equations gives the following update rule for the Q-Network:\n",
    "\n",
    "$\\Delta w = \\alpha \\big(R_{t+1} + \\gamma max_{a \\in A(S_{t+1})} Q(S_{t+1}, a, w) - Q(S_t, A_t, w) \\big) \\nabla_w Q(S_t, A_t, w)$\n",
    "\n",
    "#### Fixed Q-Targets\n",
    "If we take a closer look to the loss function, we can see, that the difference between target and prediction are both dependend on the same Q-Network. This is like chasing a moving target and in contrast to supervised learning, where targets are fixed before learning begins.  \n",
    "Because of that the weights of the target network are only updated periodically with the weights of the Q-Network. This decouples both networks' weights and reduced correlations between both. The weights of the target network are therefore denoted as $w^-$:\n",
    "\n",
    "$\\Delta w = \\alpha \\big(R_{t+1} + \\gamma max_{a \\in A(S_{t+1})} Q(S_{t+1}, a, w^-) - Q(S_t, A_t, w) \\big) \\nabla_w Q(S_t, A_t, w)$\n",
    "\n",
    "#### Soft Target-Network updates\n",
    "As an alternative to periodically replacing the Target Network weights with the ones of the Q-Network, one can apply a soft update after e.g. every step [Li, 2018]. This works as follows:\n",
    "\n",
    "$w^- \\leftarrow \\tau w + (1-\\tau) w^-$ where $\\tau \\ll 1$"
   ]
  },
  {
   "cell_type": "markdown",
   "metadata": {},
   "source": [
    "### Double Deep Q-Learning\n",
    "The following section refers to [v. Hasselt et al., 2015].  \n",
    "There is an extension of Deep Q-Learning which is called *Double Deep Q-Learning* and it tackels one inherent problem. If one rearranges the target in the loss function one can see that the same network ist used for both selecting and evaluating the action:\n",
    "\n",
    "$ R_{t+1} + \\gamma max_{a \\in A(S_{t+1})} Q(S_{t+1}, a, w) \n",
    "= R_{t+1} + \\gamma Q \\big( S_{t+1}, argmax_{a \\in A(S_{t+1})} Q(S_{t+1}, a, w), w \\big)$\n",
    "\n",
    "This makes it more likely that actions are selected which are overestimated. We can simply decouple the selection from the evaluation by making use of an other network similar to the above introduced concept Fixed Q-Targets. We can even use the Target Network. It follows:\n",
    "\n",
    "$ R_{t+1} + \\gamma Q \\big( S_{t+1}, argmax_{a \\in A(S_{t+1})} Q(S_{t+1}, a, w), w^- \\big)$\n",
    "\n",
    "Now the greedy-policy is used the select the next action for the target, but the Target Network is used for its evaluation.\n"
   ]
  },
  {
   "cell_type": "markdown",
   "metadata": {},
   "source": [
    "### Hyperparameters\n",
    "As usual for machine learning approaches, we need to tune a bunch of hyperparameters:\n",
    "\n",
    "- Replay Buffer size: amount of experience tuples to be stored in the buffer\n",
    "- Batch size: size of sample which is used to apply Q-Network update on\n",
    "- Discount factor\n",
    "- $\\tau$: quantifies soft update, if $\\tau=1$, target network weights are simply replaced with Q-Network weights\n",
    "- $\\alpha$: Learning rate / step size for Q-Network update\n",
    "- Number of steps after Q-Network is updated again:\n",
    "- Number of steps after Target Network is updated again\n",
    "- $\\epsilon$-greedy-policy: As $\\epsilon$ shall be reduced over time, we need to define three values:\n",
    "    - $\\epsilon_{start}$: $\\epsilon$ at $t=0$\n",
    "    - $\\epsilon_{end}$: minimum possible $\\epsilon$\n",
    "    - $\\epsilon_{decay}$: describes the progress: $\\epsilon \\leftarrow \\epsilon * \\epsilon_{decay}$ where $\\epsilon_{decay} \\in [0,1]$\n",
    "- The architecture of the Q-Network (number of nodes in the hidden layers)"
   ]
  },
  {
   "cell_type": "markdown",
   "metadata": {},
   "source": [
    "## The Implementation\n",
    "No it's time to implement the above described concepts for the Navigation challenge. We will start with initializing both the Unity Environment and the agent. For the initiaization of the agent we need to take a closer look, because we need to define the hyperparameters."
   ]
  },
  {
   "cell_type": "code",
   "execution_count": 1,
   "metadata": {},
   "outputs": [],
   "source": [
    "import torch\n",
    "from unityagents import UnityEnvironment\n",
    "import numpy as np\n",
    "import matplotlib.pyplot as plt\n",
    "from scipy.ndimage.filters import gaussian_filter1d\n",
    "from collections import deque\n",
    "\n",
    "from agent import Agent\n",
    "from model import QNetwork"
   ]
  },
  {
   "cell_type": "markdown",
   "metadata": {},
   "source": [
    "### Initialize Unity Environment"
   ]
  },
  {
   "cell_type": "markdown",
   "metadata": {},
   "source": [
    "Next, we will start the environment!  **_Before running the code cell below_**, change the `file_name` parameter to match the location of the Unity environment that you downloaded.\n",
    "\n",
    "- **Mac**: `\"path/to/Banana.app\"`\n",
    "- **Windows** (x86): `\"path/to/Banana_Windows_x86/Banana.exe\"`\n",
    "- **Windows** (x86_64): `\"path/to/Banana_Windows_x86_64/Banana.exe\"`\n",
    "- **Linux** (x86): `\"path/to/Banana_Linux/Banana.x86\"`\n",
    "- **Linux** (x86_64): `\"path/to/Banana_Linux/Banana.x86_64\"`\n",
    "- **Linux** (x86, headless): `\"path/to/Banana_Linux_NoVis/Banana.x86\"`\n",
    "- **Linux** (x86_64, headless): `\"path/to/Banana_Linux_NoVis/Banana.x86_64\"`\n",
    "\n",
    "\n",
    "If the following code cell will be executed successfully a Unity Environment window will open."
   ]
  },
  {
   "cell_type": "code",
   "execution_count": 2,
   "metadata": {},
   "outputs": [
    {
     "name": "stderr",
     "output_type": "stream",
     "text": [
      "INFO:unityagents:\n",
      "'Academy' started successfully!\n",
      "Unity Academy name: Academy\n",
      "        Number of Brains: 1\n",
      "        Number of External Brains : 1\n",
      "        Lesson number : 0\n",
      "        Reset Parameters :\n",
      "\t\t\n",
      "Unity brain name: BananaBrain\n",
      "        Number of Visual Observations (per agent): 0\n",
      "        Vector Observation space type: continuous\n",
      "        Vector Observation space size (per agent): 37\n",
      "        Number of stacked Vector Observation: 1\n",
      "        Vector Action space type: discrete\n",
      "        Vector Action space size (per agent): 4\n",
      "        Vector Action descriptions: , , , \n"
     ]
    },
    {
     "name": "stdout",
     "output_type": "stream",
     "text": [
      "State size: 37\n",
      "Action size: 4\n"
     ]
    }
   ],
   "source": [
    "# Initialize the environment\n",
    "env = UnityEnvironment(file_name='Banana_Linux/Banana.x86', worker_id=1)\n",
    "\n",
    "# Get default brain\n",
    "brain_name = env.brain_names[0]\n",
    "brain = env.brains[brain_name]\n",
    "\n",
    "# Get state and action spaces\n",
    "env_info = env.reset(train_mode=True)[brain_name]\n",
    "state_size = len(env_info.vector_observations[0])\n",
    "action_size = brain.vector_action_space_size\n",
    "print('State size:', state_size)\n",
    "print('Action size:', action_size)"
   ]
  },
  {
   "cell_type": "markdown",
   "metadata": {},
   "source": [
    "### Hyperparameters\n",
    "If you take a look the in agent.py file you can see which arguments are required and which default values are given. The default values are following [Mnih et al., 2015].  \n",
    "Besides the state and the action sizes which are given by the environment we need to specify the number of nodes in the hidden layers. Let's initialize an agent with 256, 128 and 64 nodes in the hidden layers."
   ]
  },
  {
   "cell_type": "code",
   "execution_count": 3,
   "metadata": {},
   "outputs": [
    {
     "name": "stdout",
     "output_type": "stream",
     "text": [
      "\n",
      "            Replay Buffer size: 1000000 \n",
      "\n",
      "            Batch size: 32 \n",
      "\n",
      "            Discout factor: 0.99 \n",
      "\n",
      "            tau: 1 \n",
      "\n",
      "            Learning Rate: 0.00025 \n",
      "\n",
      "            Update local network after every 4 steps \n",
      "\n",
      "            Update target network with local network parameters after every 10000 steps \n",
      "\n",
      "            DDQN: False\n",
      "        \n"
     ]
    }
   ],
   "source": [
    "agent1 = Agent(state_size, action_size, hidden_layers=[256, 128, 64])\n",
    "agent1.get_info()"
   ]
  },
  {
   "cell_type": "markdown",
   "metadata": {},
   "source": [
    "Let's train an agent with these hyperparameters to obtain a baseline. Afterwards I will tweek a few of them to see the effects. Besides above printed hyperparamters we also need to specify the parameters which handle the $\\epsilon$-greedy-polcy. To follow [Mnih et al., 2015] is specified $\\epsilon_{start}=1$ and $\\epsilon_{end}=0.1$. To get a better feeling about $\\epsilon_{decay}$ let's calculate the number of episodes it takes until $\\epsilon=\\epsilon_{end}$ "
   ]
  },
  {
   "cell_type": "code",
   "execution_count": 4,
   "metadata": {},
   "outputs": [],
   "source": [
    "import math"
   ]
  },
  {
   "cell_type": "code",
   "execution_count": 5,
   "metadata": {},
   "outputs": [
    {
     "name": "stdout",
     "output_type": "stream",
     "text": [
      "21.854345326782834\n",
      "229.1052882766942\n",
      "2301.4336084694537\n"
     ]
    }
   ],
   "source": [
    "print(math.log(0.1, 0.9))\n",
    "print(math.log(0.1, 0.99))\n",
    "print(math.log(0.1, 0.999))"
   ]
  },
  {
   "cell_type": "markdown",
   "metadata": {},
   "source": [
    "Let's start with $\\epsilon_{decay}=0.99$, as the decay of the other two options seams to be too short and too long, respectively."
   ]
  },
  {
   "cell_type": "markdown",
   "metadata": {},
   "source": [
    "What about the other hyperparameters? I played a lot with those and came up with the following understanding:  \n",
    "1. Both replay buffer size and batch size don't seem to be to critical for the success of the agent to solve the environment in very few epsiodes. As long as the replay buffer is big enough to avoid correlated experience tuples you should be fine. The same applies for the batch size. Don't use sample sizes which are too small. This will cause Q-Network updates which aren't robust.  \n",
    "2. Discount factor: As it is irrelevant at which time step in an episode the agent is collecting a banana, the discount factor should be 1\n",
    "3. The learning rate seams to be one of the most critical hyperparameters. If the learning rate is too large the update steps for the Q-Network are too big which will lead to unstable learning. It might be the case that the global optimum is never met. On the other hand if the learning rate is to small it takes ages until the agent is trained. Having a learning rate of 0.00025 worked quite well for me.\n",
    "4. Update local network after every x steps: Should be a small integer. If it is too high Q-Network is updated all too rarely.\n",
    "5. $\\tau$ and update target network after every x steps: These two hyperparameters should be strongly coupled. One should decided whether to apply a soft update or not. If so, $\\tau$ has to be a small number positive number and the target network should be update at the same frequency as the Q-Network. But if no soft update shall be applied $\\tau=1$. Therefore the target shall be only updated after much rarer to avoid chasing a moving target as decribed in the Fixed Q-Target section.\n",
    "6. The architecture of the Q-Network: The network should be big enough to work as a function approximator, in other words to be able to extract features in the states space and allocate the action values to those. Having 256, 128 and 64 nodes in the hidden layers worked well for me. There might be better networks but small changes in the network are seem to be uncritical for the performance of the agent."
   ]
  },
  {
   "cell_type": "markdown",
   "metadata": {},
   "source": [
    "### Training the agent\n",
    "The following function will train the agent the agent through interaction with the environment. The scores (cumulated reward of an epsiode) are monitored. If the average score of the last 100 episodes $\\geq 13$ the training will be terminated and the weights of the Q-Network are saved in the `checkpoint.pth` file."
   ]
  },
  {
   "cell_type": "code",
   "execution_count": 6,
   "metadata": {},
   "outputs": [],
   "source": [
    "def dqn(env, brain_name, \n",
    "        agent, n_episodes=2000,\n",
    "        epsilon_start=1.0, epsilon_end=.1, \n",
    "        epsilon_decay=.99):\n",
    "    \"\"\"Deep Q-Learning.\n",
    "\n",
    "    Params\n",
    "    ======\n",
    "        env: unity environment object\n",
    "        brain_name (string): brain name of initialized environment\n",
    "        agent: initialized agent object\n",
    "        n_episodes (int): maximum number of training episodes\n",
    "        epsilon_start (float): starting value of epsilon, for epsilon-greedy action selection\n",
    "        epsilon_end (float): minimum value of epsilon\n",
    "        epsilon_decay (float): multiplicative factor (per episode) for decreasing epsilon\n",
    "    \"\"\"\n",
    "\n",
    "    scores = []\n",
    "    scores_window = deque(maxlen=100)\n",
    "    epsilon = epsilon_start\n",
    "    for e in range(1, n_episodes+1):\n",
    "        env_info = env.reset(train_mode=True)[brain_name]\n",
    "        state = env_info.vector_observations[0]\n",
    "        score = 0\n",
    "        while True:\n",
    "            action = agent.act(state, epsilon)\n",
    "            env_info = env.step(action)[brain_name]\n",
    "            next_state = env_info.vector_observations[0]\n",
    "            reward = env_info.rewards[0]\n",
    "            done = env_info.local_done[0]\n",
    "            agent.step(state, action, reward, next_state, done)\n",
    "            score += reward\n",
    "            state = next_state\n",
    "            if done:\n",
    "                break\n",
    "\n",
    "        # Relative score\n",
    "        scores_window.append(score)\n",
    "        scores.append(score)\n",
    "\n",
    "        # Update epsilon\n",
    "        epsilon = max(epsilon_end, epsilon_decay*epsilon)\n",
    "        print('\\rEpisode {}\\tAverage Score: {:.2f}'.format(e, np.mean(scores_window)), end=\"\")\n",
    "        if e % 100 == 0:\n",
    "            print('\\rEpisode {}\\tAverage Score: {:.2f}'.format(e, np.mean(scores_window)))\n",
    "        if np.mean(scores_window)>=13.0:\n",
    "            print('\\nEnvironment solved in {:d} episodes!\\tAverage Score: {:.2f}'.format(e-100, np.mean(scores_window)))\n",
    "            checkpoint = {'state_size': state_size,\n",
    "                          'action_size': action_size,\n",
    "                          'hidden_layers': [each.out_features for each in agent.qnet_local.hidden_layers],\n",
    "                          'state_dict': agent.qnet_local.state_dict()}\n",
    "            torch.save(checkpoint, 'checkpoint.pth')\n",
    "            break\n",
    "    return scores"
   ]
  },
  {
   "cell_type": "code",
   "execution_count": 7,
   "metadata": {},
   "outputs": [],
   "source": [
    "def plot_scores(scores_dict):\n",
    "    fig = plt.figure()\n",
    "    ax = fig.add_subplot(111)\n",
    "    for key, scores in scores_dict.items():\n",
    "        scores_smoothed = gaussian_filter1d(scores, sigma=5)\n",
    "        plt.plot(np.arange(len(scores)), scores_smoothed, label=key)\n",
    "    plt.ylabel('smoothed Score')\n",
    "    plt.xlabel('Episode #')\n",
    "    plt.legend()\n",
    "    plt.show()"
   ]
  },
  {
   "cell_type": "markdown",
   "metadata": {},
   "source": [
    "In the next cells I will initialize four different agents and train them. Applying either soft update and Double Q-Learning or not makes the difference."
   ]
  },
  {
   "cell_type": "code",
   "execution_count": 8,
   "metadata": {},
   "outputs": [],
   "source": [
    "hidden_layers = [256, 128, 64]\n",
    "tau_soft = 1e-3\n",
    "update_target_soft = 4\n",
    "gamma = 1\n",
    "\n",
    "agent1 = Agent(state_size, action_size, hidden_layers, gamma=gamma)\n",
    "agent2 = Agent(state_size, action_size, hidden_layers, gamma=gamma, \n",
    "               tau=tau_soft, update_target=update_target_soft)\n",
    "agent3 = Agent(state_size, action_size, hidden_layers, gamma=gamma, \n",
    "               ddqn=True)\n",
    "agent4 = Agent(state_size, action_size, hidden_layers, gamma=gamma, \n",
    "               tau=tau_soft, update_target=update_target_soft, ddqn=True)"
   ]
  },
  {
   "cell_type": "code",
   "execution_count": 9,
   "metadata": {},
   "outputs": [
    {
     "name": "stdout",
     "output_type": "stream",
     "text": [
      "DQN\n",
      "Episode 100\tAverage Score: 1.12\n",
      "Episode 200\tAverage Score: 5.26\n",
      "Episode 300\tAverage Score: 8.06\n",
      "Episode 400\tAverage Score: 10.84\n",
      "Episode 500\tAverage Score: 10.82\n",
      "Episode 596\tAverage Score: 13.01\n",
      "Environment solved in 496 episodes!\tAverage Score: 13.01\n",
      "\n",
      "DQN, soft update\n",
      "Episode 100\tAverage Score: 2.52\n",
      "Episode 200\tAverage Score: 7.80\n",
      "Episode 300\tAverage Score: 9.48\n",
      "Episode 400\tAverage Score: 11.66\n",
      "Episode 500\tAverage Score: 12.69\n",
      "Episode 561\tAverage Score: 13.01\n",
      "Environment solved in 461 episodes!\tAverage Score: 13.01\n",
      "\n",
      "DDQN\n",
      "Episode 100\tAverage Score: 0.17\n",
      "Episode 200\tAverage Score: 2.93\n",
      "Episode 300\tAverage Score: 6.50\n",
      "Episode 400\tAverage Score: 8.78\n",
      "Episode 500\tAverage Score: 10.67\n",
      "Episode 600\tAverage Score: 10.99\n",
      "Episode 700\tAverage Score: 12.36\n",
      "Episode 800\tAverage Score: 12.60\n",
      "Episode 812\tAverage Score: 13.02\n",
      "Environment solved in 712 episodes!\tAverage Score: 13.02\n",
      "\n",
      "DDQN, soft update\n",
      "Episode 100\tAverage Score: 1.91\n",
      "Episode 200\tAverage Score: 6.63\n",
      "Episode 300\tAverage Score: 10.64\n",
      "Episode 343\tAverage Score: 13.08\n",
      "Environment solved in 243 episodes!\tAverage Score: 13.08\n"
     ]
    }
   ],
   "source": [
    "n = 2000\n",
    "print('DQN')\n",
    "scores_dqn = dqn(env, brain_name, agent1, n_episodes=n)\n",
    "\n",
    "print('\\nDQN, soft update')\n",
    "scores_dqn_soft_update = dqn(env, brain_name, agent2, n_episodes=n)\n",
    "\n",
    "print('\\nDDQN')\n",
    "scores_ddqn = dqn(env, brain_name, agent3, n_episodes=n)\n",
    "\n",
    "print('\\nDDQN, soft update')\n",
    "scores_ddqn_soft_update = dqn(env, brain_name, agent4, n_episodes=n)"
   ]
  },
  {
   "cell_type": "code",
   "execution_count": 10,
   "metadata": {},
   "outputs": [
    {
     "data": {
      "image/png": "[encoded data removed]",
      "text/plain": [
       "<Figure size 432x288 with 1 Axes>"
      ]
     },
     "metadata": {
      "needs_background": "light"
     },
     "output_type": "display_data"
    }
   ],
   "source": [
    "plot_scores({'DQN': scores_dqn,\n",
    "             'DQN, soft update': scores_dqn_soft_update,\n",
    "             'DDQN': scores_ddqn,\n",
    "             'DDQN, soft update': scores_ddqn_soft_update})"
   ]
  },
  {
   "cell_type": "markdown",
   "metadata": {},
   "source": [
    "As shown in the plot, the Double Deep Q-Learning algorithm with soft updates outperformes all other algorithms. But one single application of these algorithms don't allow a clear answer which algorithm is the best choice. I'd recommend to test performances with different seeds and let the agent learn for longer period, to find out which algorithm will come up with a higher score."
   ]
  },
  {
   "cell_type": "markdown",
   "metadata": {},
   "source": [
    "### Watch how the RL agent is acting in the environment"
   ]
  },
  {
   "cell_type": "code",
   "execution_count": 11,
   "metadata": {},
   "outputs": [
    {
     "name": "stdout",
     "output_type": "stream",
     "text": [
      "Score: 17.0\n"
     ]
    }
   ],
   "source": [
    "def load_checkpoints(filepath):\n",
    "    checkpoint = torch.load(filepath)\n",
    "    model = QNetwork(checkpoint['state_size'],\n",
    "                     checkpoint['action_size'],\n",
    "                     checkpoint['hidden_layers'])\n",
    "    model.load_state_dict(checkpoint['state_dict'])\n",
    "    return model\n",
    "\n",
    "def apply(env, brain_name, filepath):\n",
    "    model = load_checkpoints(filepath)\n",
    "    env_info = env.reset(train_mode=False)[brain_name]\n",
    "    state = env_info.vector_observations[0]\n",
    "    score = 0\n",
    "    while True:\n",
    "        state = torch.from_numpy(state).float().unsqueeze(0).to('cpu')\n",
    "        model.eval()\n",
    "        with torch.no_grad():\n",
    "            action_values = model(state)\n",
    "        action = np.argmax(action_values.cpu().data.numpy())\n",
    "        env_info = env.step(action)[brain_name]\n",
    "        next_state = env_info.vector_observations[0]\n",
    "        reward = env_info.rewards[0]\n",
    "        done = env_info.local_done[0]\n",
    "        score += reward\n",
    "        state = next_state\n",
    "        if done:\n",
    "            break\n",
    "    print('Score: {}'.format(score))\n",
    "    \n",
    "apply(env, brain_name, 'checkpoint.pth')"
   ]
  },
  {
   "cell_type": "code",
   "execution_count": 12,
   "metadata": {},
   "outputs": [],
   "source": [
    "# Close environment\n",
    "env.close()"
   ]
  },
  {
   "cell_type": "markdown",
   "metadata": {},
   "source": [
    "Amazing, right? Could you see how the agent is collecting yellow bananas while it is avoiding blue ones?"
   ]
  },
  {
   "cell_type": "markdown",
   "metadata": {},
   "source": [
    "## Further potentials to improve the agent\n",
    "In this section I'd like to introduce one extension of the learning algoirthm described above.\n",
    "\n",
    "### Prioritized Experience Replay\n",
    "The following section refers to [Schaul et al., 2016]. \n",
    "So far experience tuples are stored in a limited replay buffer and then batches are sampled to learn from. This brings to issues: As we are sampling uniformely, experiences which are rare but maybe are important have a very limited change of being sampled. As the buffer is limited in its size old experiences may get lost.  \n",
    "Prioritized Experience Replay tries to tackle these problems by defining a criteria which describes the priority of each tuple:\n",
    "\n",
    "$\\delta_t = R_{t+1} + \\gamma max_{a \\in A(S_{t+1})} Q(S_{t+1}, a, w) - Q(S_t, A_t, w) $\n",
    "\n",
    "This is the error in the loss function which is used for the update of the Q-Network. The absolute error $|\\delta_t|$ can be then used as a priority for sampling this tuple, so that\n",
    "\n",
    "$P(i) = \\frac{|\\delta_i|}{\\sum\\limits_{k=1}^n |\\delta_k|} $\n",
    "\n",
    "is the probability to sample the $i$-th tuple.  \n",
    "\n",
    "This leads to two furhter issues. First, if the error of a tuple is (close to) zero, the probability of picking this tuple is also (close to) zero. To avoid this we can add a small constant value $e$ to every priority value. Second, using only priorities for sampling may bring the effect of overfitting on a small subset of tuples that are sampled again and again. To tackle this problem another hyperparameter $a \\in [0,1]$ is introduced which allows random sampling up to a specific degree. The probability to sample the $i$-th tuple is now given as:\n",
    "\n",
    "$P(i) = \\frac{(|\\delta_i| + e)^a}{\\sum\\limits_{k=1}^n (|\\delta_k| + e)^a} $\n",
    "\n",
    "If $a=0$, tuples are sampled uniformly, if $a=1$ tuples are sampled according to priorities.  \n",
    "\n",
    "As a last step we need to adjust the update rule to avoid that the action values are biased to the priorities which are used for sampling. Therefore *importance-sampling weights* are introduced:\n",
    "\n",
    "$ w_i = \\big( \\frac{1}{N P(i)} \\big)^{\\beta}$\n",
    "\n",
    "Here $N$ is the size of the replay buffer and $\\beta \\in [0,1]$ is used to control the amount of compensation. If $\\beta = 1$, importance-sampling weights fully compensate for non-uniform probabilities $P(i)$. Applying these weights will change the update rule as follows:\n",
    "\n",
    "$\\Delta w_i = \\alpha \\big( \\frac{1}{N P(i)}\\big)^{\\beta} \\delta_i \\nabla_w Q(S_t, A_t, w)$"
   ]
  },
  {
   "cell_type": "markdown",
   "metadata": {},
   "source": [
    "## References\n",
    "- Mnih,  V.,  Kavukcuoglu,  K.,  Silver,  D.,  Rusu,  A. A.,  Veness, J., Bellemare, M. G., Graves, A., Riedmiller, M., Fidjeland, A. K., Ostrovski, G., Petersen, S., Beattie, C., Sadik, A., Antonoglou, I., King, H., Kumaran, D., Wierstra, D., Legg, S., and Hassabis, D.  Human-level control through deep reinforcement learning. Nature,  518 (7540):529–533, 2015.\n",
    "- van Hasselt, H., Guez, A., and Silver, D.  Deep reinforcement  learning  with  double  Q-learning. arXiv  preprint arXiv:1509.06461, 2015.\n",
    "- Sutton, R., and Brato, A., Reinforcement Learning. An Introduction (MIT Press, 2018)\n",
    "- Li, Y., Deep Reinforcement Learning: An Overview. arXiv:1701.07274v6, 2018\n",
    "- Schaul, T., Quan, J., Antonoglou, I., and Silver D. Prioritized Experience Replay. arXiv:1511.05952, 2016"
   ]
  }
 ],
 "metadata": {
  "kernelspec": {
   "display_name": "drlnd",
   "language": "python",
   "name": "drlnd"
  },
  "language_info": {
   "codemirror_mode": {
    "name": "ipython",
    "version": 3
   },
   "file_extension": ".py",
   "mimetype": "text/x-python",
   "name": "python",
   "nbconvert_exporter": "python",
   "pygments_lexer": "ipython3",
   "version": "3.6.7"
  }
 },
 "nbformat": 4,
 "nbformat_minor": 2
}
